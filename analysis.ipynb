{
 "cells": [
  {
   "cell_type": "code",
   "execution_count": 11,
   "metadata": {},
   "outputs": [],
   "source": [
    "import numpy as np\n",
    "import pandas as pd\n",
    "import itertools\n",
    "from sklearn.model_selection import train_test_split\n",
    "from sklearn.feature_extraction.text import TfidfVectorizer\n",
    "from sklearn.linear_model import PassiveAggressiveClassifier\n",
    "from sklearn.metrics import accuracy_score, confusion_matrix\n",
    "import time\n",
    "import h5py\n",
    "import pickle"
   ]
  },
  {
   "cell_type": "code",
   "execution_count": 2,
   "metadata": {},
   "outputs": [],
   "source": [
    "df = pd.read_csv('news.csv')\n",
    "labels = df.label"
   ]
  },
  {
   "cell_type": "code",
   "execution_count": 3,
   "metadata": {},
   "outputs": [],
   "source": [
    "x_train, x_test, y_train, y_test = train_test_split(df['text'], labels, test_size = 0.2, random_state = 7)\n",
    "\n",
    "tfidf_vectorizer = TfidfVectorizer(stop_words = 'english', max_df = 0.7)\n",
    "\n",
    "tfidf_train = tfidf_vectorizer.fit_transform(x_train)\n",
    "tfidf_test = tfidf_vectorizer.transform(x_test)"
   ]
  },
  {
   "cell_type": "code",
   "execution_count": 12,
   "metadata": {},
   "outputs": [
    {
     "name": "stdout",
     "output_type": "stream",
     "text": [
      "Took 0.0839 seconds\n",
      "\n",
      "PAC model 1\n",
      "Accuracy: 92.9%\n",
      "\n"
     ]
    },
    {
     "data": {
      "text/plain": [
       "array([[589,  49],\n",
       "       [ 41, 588]])"
      ]
     },
     "execution_count": 12,
     "metadata": {},
     "output_type": "execute_result"
    }
   ],
   "source": [
    "t0 = time.perf_counter()\n",
    "pac1 = PassiveAggressiveClassifier(max_iter = 50)\n",
    "pac1.fit(tfidf_train, y_train)\n",
    "\n",
    "y_pred1 = pac1.predict(tfidf_test)\n",
    "score1 = accuracy_score(y_test, y_pred1)\n",
    "tf = time.perf_counter() - t0\n",
    "print(f'Took {round(tf, 4)} seconds')\n",
    "print()\n",
    "print('PAC model 1')\n",
    "print(f'Accuracy: {round(score1*100,2)}%')\n",
    "print()\n",
    "\n",
    "confusion_matrix(y_test, y_pred1, labels = ['FAKE', 'REAL'])"
   ]
  },
  {
   "cell_type": "code",
   "execution_count": 13,
   "metadata": {},
   "outputs": [
    {
     "name": "stdout",
     "output_type": "stream",
     "text": [
      "Took 0.0759 seconds\n",
      "\n",
      "PAC model 2\n",
      "Accuracy: 92.74%\n",
      "\n"
     ]
    },
    {
     "data": {
      "text/plain": [
       "array([[588,  50],\n",
       "       [ 42, 587]])"
      ]
     },
     "execution_count": 13,
     "metadata": {},
     "output_type": "execute_result"
    }
   ],
   "source": [
    "t0 = time.perf_counter()\n",
    "pac2 = PassiveAggressiveClassifier(max_iter = 75)\n",
    "pac2.fit(tfidf_train, y_train)\n",
    "\n",
    "y_pred2 = pac2.predict(tfidf_test)\n",
    "score2 = accuracy_score(y_test, y_pred2)\n",
    "tf = time.perf_counter() - t0\n",
    "print(f'Took {round(tf, 4)} seconds')\n",
    "print()\n",
    "print('PAC model 2')\n",
    "print(f'Accuracy: {round(score2*100,2)}%')\n",
    "print()\n",
    "\n",
    "confusion_matrix(y_test, y_pred2, labels = ['FAKE', 'REAL'])"
   ]
  },
  {
   "cell_type": "code",
   "execution_count": 14,
   "metadata": {},
   "outputs": [
    {
     "name": "stdout",
     "output_type": "stream",
     "text": [
      "Took 0.0767 seconds\n",
      "\n",
      "PAC model 2\n",
      "Accuracy: 92.66%\n",
      "\n"
     ]
    },
    {
     "data": {
      "text/plain": [
       "array([[588,  50],\n",
       "       [ 43, 586]])"
      ]
     },
     "execution_count": 14,
     "metadata": {},
     "output_type": "execute_result"
    }
   ],
   "source": [
    "t0 = time.perf_counter()\n",
    "pac3 = PassiveAggressiveClassifier(max_iter = 100)\n",
    "pac3.fit(tfidf_train, y_train)\n",
    "\n",
    "y_pred3 = pac3.predict(tfidf_test)\n",
    "score3 = accuracy_score(y_test, y_pred3)\n",
    "tf = time.perf_counter() - t0\n",
    "print(f'Took {round(tf, 4)} seconds')\n",
    "print()\n",
    "print('PAC model 2')\n",
    "print(f'Accuracy: {round(score3*100,2)}%')\n",
    "print()\n",
    "\n",
    "confusion_matrix(y_test, y_pred3, labels = ['FAKE', 'REAL'])"
   ]
  },
  {
   "cell_type": "markdown",
   "metadata": {},
   "source": [
    "It seems like there is no descernable difference in max iterations, and the time difference between them is also very small."
   ]
  },
  {
   "cell_type": "code",
   "execution_count": 15,
   "metadata": {},
   "outputs": [],
   "source": [
    "pickle.dump(pac3, open('pac_model.p', 'wb'))"
   ]
  },
  {
   "cell_type": "code",
   "execution_count": null,
   "metadata": {},
   "outputs": [],
   "source": []
  }
 ],
 "metadata": {
  "kernelspec": {
   "display_name": "Python 3",
   "language": "python",
   "name": "python3"
  },
  "language_info": {
   "codemirror_mode": {
    "name": "ipython",
    "version": 3
   },
   "file_extension": ".py",
   "mimetype": "text/x-python",
   "name": "python",
   "nbconvert_exporter": "python",
   "pygments_lexer": "ipython3",
   "version": "3.7.6"
  }
 },
 "nbformat": 4,
 "nbformat_minor": 4
}
